{
 "cells": [
  {
   "cell_type": "code",
   "execution_count": 1,
   "id": "5cbd8c72-140c-45da-9a32-384f1a7d9f7d",
   "metadata": {},
   "outputs": [
    {
     "name": "stdin",
     "output_type": "stream",
     "text": [
      "Enter the x-coordinate of the first point:  5\n",
      "Enter the y-coordinate of the first point:  6\n",
      "Enter the x-coordinate of the second point:  9\n",
      "Enter the y-coordinate of the second point:  4\n"
     ]
    },
    {
     "name": "stdout",
     "output_type": "stream",
     "text": [
      "The distance between the points (5.0, 6.0) and (9.0, 4.0) is: 4.47213595499958\n"
     ]
    }
   ],
   "source": [
    "import math\n",
    "\n",
    "def calculate_distance(x1, y1, x2, y2):\n",
    "    return math.sqrt((x2 - x1)**2 + (y2 - y1)**2)\n",
    "\n",
    "x1 = float(input(\"Enter the x-coordinate of the first point: \"))\n",
    "y1 = float(input(\"Enter the y-coordinate of the first point: \"))\n",
    "x2 = float(input(\"Enter the x-coordinate of the second point: \"))\n",
    "y2 = float(input(\"Enter the y-coordinate of the second point: \"))\n",
    "\n",
    "distance = calculate_distance(x1, y1, x2, y2)\n",
    "\n",
    "print(f\"The distance between the points ({x1}, {y1}) and ({x2}, {y2}) is: {distance}\")\n"
   ]
  },
  {
   "cell_type": "code",
   "execution_count": null,
   "id": "88b2b026-0103-4576-a2e4-670bcdcf545b",
   "metadata": {},
   "outputs": [],
   "source": []
  }
 ],
 "metadata": {
  "kernelspec": {
   "display_name": "Python 3 (ipykernel)",
   "language": "python",
   "name": "python3"
  },
  "language_info": {
   "codemirror_mode": {
    "name": "ipython",
    "version": 3
   },
   "file_extension": ".py",
   "mimetype": "text/x-python",
   "name": "python",
   "nbconvert_exporter": "python",
   "pygments_lexer": "ipython3",
   "version": "3.12.7"
  }
 },
 "nbformat": 4,
 "nbformat_minor": 5
}
